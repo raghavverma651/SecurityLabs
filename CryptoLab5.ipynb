{
 "cells": [
  {
   "cell_type": "markdown",
   "metadata": {},
   "source": [
    "# Function for Mod Inverse"
   ]
  },
  {
   "cell_type": "code",
   "execution_count": 1,
   "metadata": {
    "ExecuteTime": {
     "end_time": "2020-09-16T07:52:49.421603Z",
     "start_time": "2020-09-16T07:52:49.415644Z"
    }
   },
   "outputs": [],
   "source": [
    "def findModInverse(a, m):\n",
    "    if gcd(a, m) != 1:\n",
    "        return None\n",
    "    u1, u2, u3 = 1, 0, a\n",
    "    v1, v2, v3 = 0, 1, m\n",
    "    while v3 != 0:\n",
    "        q = u3 // v3\n",
    "        v1, v2, v3, u1, u2, u3 = (u1 - q * v1), (u2 - q * v2), (u3 - q * v3), v1, v2, v3\n",
    "    return u1 % m"
   ]
  },
  {
   "cell_type": "markdown",
   "metadata": {},
   "source": [
    "# RSA Algorithm"
   ]
  },
  {
   "cell_type": "code",
   "execution_count": 12,
   "metadata": {
    "ExecuteTime": {
     "end_time": "2020-09-16T08:50:20.968806Z",
     "start_time": "2020-09-16T08:50:07.517214Z"
    }
   },
   "outputs": [
    {
     "name": "stdout",
     "output_type": "stream",
     "text": [
      "p taken - 101\n",
      "q taken - 359\n",
      "Public key - (3, 36259)\n",
      "Private key - (23867, 36259)\n",
      "\n",
      "1 - Encrypt\n",
      "2 - Decrypt\n",
      "Enter choice : 1\n",
      "\n",
      "Enter text to encrypt - plain\n",
      "4096 1728 1 729 2744\n",
      "\n",
      "1 - Encrypt\n",
      "2 - Decrypt\n",
      "Enter choice : 2\n",
      "Enter text to decrypt (numeric and spaced)4096 1728 1 729 2744\n",
      "Decrypted message - plain\n"
     ]
    }
   ],
   "source": [
    "from random import choice \n",
    "lower=100\n",
    "upper=1000\n",
    "primes=[]\n",
    "iterr=0\n",
    "for x in range(lower, upper + 1):\n",
    "    \n",
    "    if x > 1:\n",
    "        for i in range(2, x):\n",
    "            if (x % i) == 0:\n",
    "                break\n",
    "        else:\n",
    "            primes.append(x)\n",
    "p=choice(primes)\n",
    "q=choice(primes)\n",
    "print(\"p taken -\",p)\n",
    "print(\"q taken -\",q)\n",
    "n=p*q\n",
    "phi=(p-1)*(q-1)\n",
    "from math import gcd\n",
    "e=0\n",
    "for i in range(2,phi):\n",
    "    if(gcd(i,phi)==1):\n",
    "        e=i\n",
    "        break\n",
    "d=0\n",
    "for i in range(1,10): \n",
    "    x = 1 + i*phi \n",
    "    if x % e == 0: \n",
    "        d = int(x/e) \n",
    "        break\n",
    "print(\"Public key -\",(e,n))\n",
    "print(\"Private key -\",(d,n))\n",
    "while(iterr!=2):\n",
    "    cipher={chr(i+97):i+1 for i in range(26)}\n",
    "    revcipher={i+1:chr(i+97) for i in range(26)}\n",
    "    ch=int(input(\"\\n1 - Encrypt\\n2 - Decrypt\\nEnter choice : \"))\n",
    "    if(ch==1):\n",
    "        plain=input(\"\\nEnter text to encrypt - \")\n",
    "        plain=[cipher[i] for i in plain]\n",
    "        num=\"\"\n",
    "        for i in plain:\n",
    "            if(i>9):\n",
    "                num+=str(i)\n",
    "            else:\n",
    "                num+=\"0\"+str(i)\n",
    "        encrypted=[]\n",
    "        for i in range(0,len(num),2):\n",
    "            smt=((int(str(num[i]+num[i+1])))**e)%n\n",
    "            encrypted.append(str(smt))\n",
    "        print(' '.join(encrypted))\n",
    "    elif(ch==2):\n",
    "        enc=list(map(int,input(\"Enter text to decrypt (numeric and spaced)\").split()))\n",
    "        decrypted=[]\n",
    "        for i in enc:\n",
    "            decrypted.append((i**d)%n)\n",
    "        print(\"Decrypted message -\",''.join([revcipher[i] for i in decrypted]))\n",
    "    iterr+=1"
   ]
  },
  {
   "cell_type": "code",
   "execution_count": 1,
   "metadata": {
    "ExecuteTime": {
     "end_time": "2020-09-16T08:04:11.950318Z",
     "start_time": "2020-09-16T08:04:11.945314Z"
    }
   },
   "outputs": [],
   "source": [
    "a=[1,2,3,4,5,6,7]\n",
    "a=[str(i) for i in a]"
   ]
  },
  {
   "cell_type": "code",
   "execution_count": 3,
   "metadata": {
    "ExecuteTime": {
     "end_time": "2020-09-16T08:04:37.658929Z",
     "start_time": "2020-09-16T08:04:37.652944Z"
    }
   },
   "outputs": [
    {
     "data": {
      "text/plain": [
       "'1 2 3 4 5 6 7'"
      ]
     },
     "execution_count": 3,
     "metadata": {},
     "output_type": "execute_result"
    }
   ],
   "source": [
    "' '.join(a)"
   ]
  },
  {
   "cell_type": "code",
   "execution_count": 7,
   "metadata": {
    "ExecuteTime": {
     "end_time": "2020-09-16T08:13:22.479225Z",
     "start_time": "2020-09-16T08:13:22.475233Z"
    }
   },
   "outputs": [],
   "source": [
    "a=\"1 2 3 4 5 6 7\""
   ]
  },
  {
   "cell_type": "code",
   "execution_count": 5,
   "metadata": {
    "ExecuteTime": {
     "end_time": "2020-09-16T08:12:49.602268Z",
     "start_time": "2020-09-16T08:12:49.596284Z"
    }
   },
   "outputs": [
    {
     "data": {
      "text/plain": [
       "['1', '2', '3', '4', '5', '6', '7']"
      ]
     },
     "execution_count": 5,
     "metadata": {},
     "output_type": "execute_result"
    }
   ],
   "source": [
    "a.split()"
   ]
  },
  {
   "cell_type": "code",
   "execution_count": 9,
   "metadata": {
    "ExecuteTime": {
     "end_time": "2020-09-16T08:13:33.967652Z",
     "start_time": "2020-09-16T08:13:33.960649Z"
    }
   },
   "outputs": [
    {
     "data": {
      "text/plain": [
       "[1, 2, 3, 4, 5, 6, 7]"
      ]
     },
     "execution_count": 9,
     "metadata": {},
     "output_type": "execute_result"
    }
   ],
   "source": [
    "a=[int(i) for i in a.split()]\n",
    "a"
   ]
  },
  {
   "cell_type": "code",
   "execution_count": 11,
   "metadata": {
    "ExecuteTime": {
     "end_time": "2020-09-16T08:48:58.915257Z",
     "start_time": "2020-09-16T08:48:58.904398Z"
    }
   },
   "outputs": [
    {
     "data": {
      "text/plain": [
       "{1: 'a',\n",
       " 2: 'b',\n",
       " 3: 'c',\n",
       " 4: 'd',\n",
       " 5: 'e',\n",
       " 6: 'f',\n",
       " 7: 'g',\n",
       " 8: 'h',\n",
       " 9: 'i',\n",
       " 10: 'j',\n",
       " 11: 'k',\n",
       " 12: 'l',\n",
       " 13: 'm',\n",
       " 14: 'n',\n",
       " 15: 'o',\n",
       " 16: 'p',\n",
       " 17: 'q',\n",
       " 18: 'r',\n",
       " 19: 's',\n",
       " 20: 't',\n",
       " 21: 'u',\n",
       " 22: 'v',\n",
       " 23: 'w',\n",
       " 24: 'x',\n",
       " 25: 'y',\n",
       " 26: 'z'}"
      ]
     },
     "execution_count": 11,
     "metadata": {},
     "output_type": "execute_result"
    }
   ],
   "source": [
    "revcipher={i+1:chr(i+97) for i in range(26)}\n",
    "revcipher"
   ]
  },
  {
   "cell_type": "code",
   "execution_count": null,
   "metadata": {},
   "outputs": [],
   "source": []
  }
 ],
 "metadata": {
  "kernelspec": {
   "display_name": "Python 3",
   "language": "python",
   "name": "python3"
  },
  "language_info": {
   "codemirror_mode": {
    "name": "ipython",
    "version": 3
   },
   "file_extension": ".py",
   "mimetype": "text/x-python",
   "name": "python",
   "nbconvert_exporter": "python",
   "pygments_lexer": "ipython3",
   "version": "3.8.5"
  },
  "varInspector": {
   "cols": {
    "lenName": 16,
    "lenType": 16,
    "lenVar": 40
   },
   "kernels_config": {
    "python": {
     "delete_cmd_postfix": "",
     "delete_cmd_prefix": "del ",
     "library": "var_list.py",
     "varRefreshCmd": "print(var_dic_list())"
    },
    "r": {
     "delete_cmd_postfix": ") ",
     "delete_cmd_prefix": "rm(",
     "library": "var_list.r",
     "varRefreshCmd": "cat(var_dic_list()) "
    }
   },
   "types_to_exclude": [
    "module",
    "function",
    "builtin_function_or_method",
    "instance",
    "_Feature"
   ],
   "window_display": false
  }
 },
 "nbformat": 4,
 "nbformat_minor": 4
}
