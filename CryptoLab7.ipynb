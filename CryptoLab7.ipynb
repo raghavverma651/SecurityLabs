{
 "cells": [
  {
   "cell_type": "code",
   "execution_count": 60,
   "metadata": {
    "ExecuteTime": {
     "end_time": "2020-09-30T16:50:54.721512Z",
     "start_time": "2020-09-30T16:50:22.447506Z"
    }
   },
   "outputs": [
    {
     "name": "stdout",
     "output_type": "stream",
     "text": [
      "p taken - 151\n",
      "q taken - 547\n",
      "Public key - (50989, 82597)\n",
      "Private key - (5209, 82597)\n",
      "\n",
      "1 - Generate\n",
      "2 - Verify\n",
      "Enter choice : 1\n",
      "\n",
      "Enter text for signature generation - a sentence to demonstrate signature verification using RSA Encryption/Decryption accomapnied by hash digests\n",
      "Message - a sentence to demonstrate signature verification using RSA Encryption/Decryption accomapnied by hash digests\n",
      "Hash - d7b9bfdc7558a873051d4d627786387174e4550b\n",
      "Number Array for Hashed Message [24607, 25031, 39838, 60975, 39838, 16555, 24607, 10356, 25031, 70543, 70543, 39728, 31703, 39728, 25031, 80036, 15810, 70543, 10172, 24607, 59708, 24607, 36398, 19573, 25031, 25031, 39728, 36398, 80036, 39728, 25031, 10172, 25031, 59708, 36901, 59708, 70543, 70543, 15810, 39838]\n",
      "Hashed Message - 24607250313983860975398381655524607103562503170543705433972831703397282503180036158107054310172246075970824607363981957325031250313972836398800363972825031101722503159708369015970870543705431581039838\n",
      "\n",
      "------------------------------------\n",
      "\n",
      "1 - Generate\n",
      "2 - Verify\n",
      "Enter choice : 2\n",
      "Enter message a sentence to demonstrate signature verification using RSA Encryption/Decryption accomapnied by hash digests\n",
      "Enter hashed message for verification 24607, 25031, 39838, 60975, 39838, 16555, 24607, 10356, 25031, 70543, 70543, 39728, 31703, 39728, 25031, 80036, 15810, 70543, 10172, 24607, 59708, 24607, 36398, 19573, 25031, 25031, 39728, 36398, 80036, 39728, 25031, 10172, 25031, 59708, 36901, 59708, 70543, 70543, 15810, 39838\n",
      "Signature verified\n"
     ]
    }
   ],
   "source": [
    "import random\n",
    "from random import choice\n",
    "import hashlib\n",
    "def coprime(a, b):\n",
    "    while b != 0:\n",
    "        a, b = b, a % b\n",
    "    return a\n",
    "    \n",
    "def extended_gcd(aa, bb):\n",
    "    lastremainder, remainder = abs(aa), abs(bb)\n",
    "    x, lastx, y, lasty = 0, 1, 1, 0\n",
    "    while remainder:\n",
    "        lastremainder, (quotient, remainder) = remainder, divmod(lastremainder, remainder)\n",
    "        x, lastx = lastx - quotient*x, x\n",
    "        y, lasty = lasty - quotient*y, y\n",
    "    return lastremainder, lastx * (-1 if aa < 0 else 1), lasty * (-1 if bb < 0 else 1)\n",
    "  \n",
    "def modinv(a, m):\n",
    "\tg, x, y = extended_gcd(a, m)\n",
    "\tif g != 1:\n",
    "\t\traise Exception('Modular inverse does not exist')\n",
    "\treturn x % m    \n",
    "\n",
    "        \n",
    "def is_prime(num):\n",
    "    if num == 2:\n",
    "        return True\n",
    "    if num < 2 or num % 2 == 0:\n",
    "        return False\n",
    "    for n in range(3, int(num**0.5)+2, 2):\n",
    "        if num % n == 0:\n",
    "            return False\n",
    "    return True\n",
    "\n",
    "\n",
    "def generate_keypair(p, q):\n",
    "    if not (is_prime(p) and is_prime(q)):\n",
    "        raise ValueError('Both numbers must be prime.')\n",
    "    elif p == q:\n",
    "        raise ValueError('p and q cannot be equal')\n",
    "    print(\"p taken -\",p)\n",
    "    print(\"q taken -\",q)\n",
    "    n = p * q\n",
    "    phi = (p-1) * (q-1)\n",
    "    e = random.randrange(1, phi)\n",
    "    g = coprime(e, phi)\n",
    "    while g != 1:\n",
    "        e = random.randrange(1, phi)\n",
    "        g = coprime(e, phi)\n",
    "\n",
    "    d = modinv(e, phi)\n",
    "    return ((e, n), (d, n)) \n",
    "lower=100\n",
    "upper=1000\n",
    "primes=[]\n",
    "iterr=0\n",
    "for x in range(lower, upper + 1):\n",
    "    \n",
    "    if x > 1:\n",
    "        for i in range(2, x):\n",
    "            if (x % i) == 0:\n",
    "                break\n",
    "        else:\n",
    "            primes.append(x)\n",
    "p=choice(primes)\n",
    "q=choice(primes)\n",
    "pub,priv=generate_keypair(p,q)\n",
    "print(\"Public key -\",pub)\n",
    "print(\"Private key -\",priv)\n",
    "e=pub[0]\n",
    "n=pub[1]\n",
    "d=priv[0]\n",
    "while(iterr!=2):\n",
    "    ch=int(input(\"\\n1 - Generate\\n2 - Verify\\nEnter choice : \"))\n",
    "    if(ch==1):\n",
    "        plain=input(\"\\nEnter text for signature generation - \")\n",
    "        h=plain.encode('utf-8')\n",
    "        h=hashlib.sha1(h).hexdigest()\n",
    "        s=[pow(ord(i),d,n) for i in h]\n",
    "        print(\"Message -\",plain)\n",
    "        print(\"Hash -\",h)\n",
    "        print('Number Array for Hashed Message',s)\n",
    "        print('Hashed Message -',''.join([str(i) for i in s]))\n",
    "        print()\n",
    "        print(\"------------------------------------\")\n",
    "    elif(ch==2):\n",
    "        m=input(\"Enter message \")\n",
    "        s=list(map(int,input(\"Enter hashed message for verification \").split(', ')))\n",
    "        h=[chr(pow(i, e, n)) for i in s]\n",
    "        h=''.join([str(i) for i in h])\n",
    "        if(h==hashlib.sha1(m.encode('UTF-8')).hexdigest()):\n",
    "            print(\"Signature verified\")\n",
    "        else:\n",
    "            print(\"Signature does not match\")\n",
    "        \n",
    "        \n",
    "    iterr+=1"
   ]
  },
  {
   "cell_type": "code",
   "execution_count": null,
   "metadata": {},
   "outputs": [],
   "source": []
  }
 ],
 "metadata": {
  "kernelspec": {
   "display_name": "Python 3",
   "language": "python",
   "name": "python3"
  },
  "language_info": {
   "codemirror_mode": {
    "name": "ipython",
    "version": 3
   },
   "file_extension": ".py",
   "mimetype": "text/x-python",
   "name": "python",
   "nbconvert_exporter": "python",
   "pygments_lexer": "ipython3",
   "version": "3.8.5"
  },
  "varInspector": {
   "cols": {
    "lenName": 16,
    "lenType": 16,
    "lenVar": 40
   },
   "kernels_config": {
    "python": {
     "delete_cmd_postfix": "",
     "delete_cmd_prefix": "del ",
     "library": "var_list.py",
     "varRefreshCmd": "print(var_dic_list())"
    },
    "r": {
     "delete_cmd_postfix": ") ",
     "delete_cmd_prefix": "rm(",
     "library": "var_list.r",
     "varRefreshCmd": "cat(var_dic_list()) "
    }
   },
   "types_to_exclude": [
    "module",
    "function",
    "builtin_function_or_method",
    "instance",
    "_Feature"
   ],
   "window_display": false
  }
 },
 "nbformat": 4,
 "nbformat_minor": 4
}
