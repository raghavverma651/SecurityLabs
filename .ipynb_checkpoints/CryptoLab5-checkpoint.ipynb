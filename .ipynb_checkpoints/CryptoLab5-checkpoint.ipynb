{
 "cells": [
  {
   "cell_type": "code",
   "execution_count": 82,
   "metadata": {
    "ExecuteTime": {
     "end_time": "2020-09-16T05:19:46.087548Z",
     "start_time": "2020-09-16T05:19:36.009575Z"
    }
   },
   "outputs": [
    {
     "name": "stdout",
     "output_type": "stream",
     "text": [
      "Public key - (3, 235189)\n",
      "Private key - (156147, 235189)\n",
      "\n",
      "1 - Encrypt\n",
      "2 - Decrypt\n",
      "Enter choice : 1\n",
      "\n",
      "Enter text to encrypt - hello\n",
      "Encrypted message (numeric) - 93350\n",
      "\n",
      "1 - Encrypt\n",
      "2 - Decrypt\n",
      "Enter choice : 2\n",
      "\n",
      "Enter the encrypted text to decrypt - 93350\n",
      "Decrypted message - bagihf\n"
     ]
    }
   ],
   "source": [
    "from random import choice \n",
    "lower=100\n",
    "upper=1000\n",
    "primes=[]\n",
    "iterr=0\n",
    "for x in range(lower, upper + 1):\n",
    "    \n",
    "    if x > 1:\n",
    "        for i in range(2, x):\n",
    "            if (x % i) == 0:\n",
    "                break\n",
    "        else:\n",
    "            primes.append(x)\n",
    "p=choice(primes)\n",
    "q=choice(primes)\n",
    "n=p*q\n",
    "phi=(p-1)*(q-1)\n",
    "from math import gcd\n",
    "e=0\n",
    "for i in range(2,phi):\n",
    "    if(gcd(i,phi)==1):\n",
    "        e=i\n",
    "        break\n",
    "d = int((2*phi + 1) / e)\n",
    "print(\"Public key -\",(e,n))\n",
    "print(\"Private key -\",(d,n))\n",
    "while(iterr!=2):\n",
    "    cipher={chr(i+97):i+1 for i in range(26)}\n",
    "    revcipher={i+1:chr(i+97) for i in range(26)}\n",
    "    ch=int(input(\"\\n1 - Encrypt\\n2 - Decrypt\\nEnter choice : \"))\n",
    "    if(ch==1):\n",
    "        plain=input(\"\\nEnter text to encrypt - \")\n",
    "        plain=[cipher[i] for i in plain]\n",
    "        num=\"\"\n",
    "        for i in plain:\n",
    "            num+=str(i)\n",
    "        encrypted=((int(num))**e)%n\n",
    "        print(\"Encrypted message (numeric) -\",encrypted)\n",
    "    elif(ch==2):\n",
    "        enc=int(input(\"\\nEnter the encrypted text to decrypt - \"))\n",
    "        decrypted=(enc**d)%n\n",
    "        print(\"Decrypted message -\",''.join([revcipher[i] for i in list(map(int, str(decrypted)))]))\n",
    "    iterr+=1\n"
   ]
  },
  {
   "cell_type": "code",
   "execution_count": 74,
   "metadata": {
    "ExecuteTime": {
     "end_time": "2020-09-16T05:04:40.652990Z",
     "start_time": "2020-09-16T05:04:40.637342Z"
    }
   },
   "outputs": [
    {
     "name": "stdout",
     "output_type": "stream",
     "text": [
      "89\n"
     ]
    }
   ],
   "source": [
    "\n"
   ]
  },
  {
   "cell_type": "code",
   "execution_count": 76,
   "metadata": {
    "ExecuteTime": {
     "end_time": "2020-09-16T05:05:35.039158Z",
     "start_time": "2020-09-16T05:04:42.186351Z"
    }
   },
   "outputs": [
    {
     "data": {
      "text/plain": [
       "5213987"
      ]
     },
     "execution_count": 76,
     "metadata": {},
     "output_type": "execute_result"
    }
   ],
   "source": [
    "decrypted=(encrypted**d)%n\n",
    "decrypted"
   ]
  },
  {
   "cell_type": "code",
   "execution_count": 58,
   "metadata": {
    "ExecuteTime": {
     "end_time": "2020-09-16T04:59:10.618318Z",
     "start_time": "2020-09-16T04:59:10.602693Z"
    }
   },
   "outputs": [
    {
     "data": {
      "text/plain": [
       "'hi'"
      ]
     },
     "execution_count": 58,
     "metadata": {},
     "output_type": "execute_result"
    }
   ],
   "source": [
    "''.join([revcipher[i] for i in list(map(int, str(decrypted)))])"
   ]
  },
  {
   "cell_type": "code",
   "execution_count": null,
   "metadata": {},
   "outputs": [],
   "source": []
  }
 ],
 "metadata": {
  "kernelspec": {
   "display_name": "Python 3",
   "language": "python",
   "name": "python3"
  },
  "language_info": {
   "codemirror_mode": {
    "name": "ipython",
    "version": 3
   },
   "file_extension": ".py",
   "mimetype": "text/x-python",
   "name": "python",
   "nbconvert_exporter": "python",
   "pygments_lexer": "ipython3",
   "version": "3.8.5"
  },
  "varInspector": {
   "cols": {
    "lenName": 16,
    "lenType": 16,
    "lenVar": 40
   },
   "kernels_config": {
    "python": {
     "delete_cmd_postfix": "",
     "delete_cmd_prefix": "del ",
     "library": "var_list.py",
     "varRefreshCmd": "print(var_dic_list())"
    },
    "r": {
     "delete_cmd_postfix": ") ",
     "delete_cmd_prefix": "rm(",
     "library": "var_list.r",
     "varRefreshCmd": "cat(var_dic_list()) "
    }
   },
   "types_to_exclude": [
    "module",
    "function",
    "builtin_function_or_method",
    "instance",
    "_Feature"
   ],
   "window_display": false
  }
 },
 "nbformat": 4,
 "nbformat_minor": 4
}
