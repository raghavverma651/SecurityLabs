{
 "cells": [
  {
   "cell_type": "code",
   "execution_count": 3,
   "metadata": {},
   "outputs": [],
   "source": [
    "import numpy as np"
   ]
  },
  {
   "cell_type": "markdown",
   "metadata": {},
   "source": [
    "# Playfair Cipher"
   ]
  },
  {
   "cell_type": "code",
   "execution_count": null,
   "metadata": {},
   "outputs": [],
   "source": []
  },
  {
   "cell_type": "markdown",
   "metadata": {},
   "source": [
    "# Hill Cipher"
   ]
  },
  {
   "cell_type": "code",
   "execution_count": 106,
   "metadata": {},
   "outputs": [
    {
     "name": "stdout",
     "output_type": "stream",
     "text": [
      "[[ 3.96825397  6.55555556 12.6984127 ]\n",
      " [ 0.28344671  3.96825397 23.33560091]\n",
      " [20.3877551  21.42857143 13.75510204]]\n"
     ]
    }
   ],
   "source": [
    "cipher={chr(i+65):i for i in range(26)}\n",
    "revcipher={i:chr(i+65) for i in range(26)}\n",
    "a=\"ACT\"\n",
    "key=\"GYBNQKURP\"\n",
    "keymatrix=np.array(list(map(lambda x : cipher[x],key))).reshape(len(a),len(a))\n",
    "parray=np.array(list(map(lambda x : cipher[x],a)))\n",
    "ciphered=list(keymatrix.dot(parray)%26)\n",
    "ciphertext=''.join([revcipher[i] for i in ciphered])\n",
    "det=np.linalg.det(keymatrix)%26\n",
    "print((np.linalg.inv(keymatrix)*det)%26)"
   ]
  },
  {
   "cell_type": "code",
   "execution_count": null,
   "metadata": {},
   "outputs": [],
   "source": []
  }
 ],
 "metadata": {
  "kernelspec": {
   "display_name": "Python 3",
   "language": "python",
   "name": "python3"
  },
  "language_info": {
   "codemirror_mode": {
    "name": "ipython",
    "version": 3
   },
   "file_extension": ".py",
   "mimetype": "text/x-python",
   "name": "python",
   "nbconvert_exporter": "python",
   "pygments_lexer": "ipython3",
   "version": "3.6.5"
  }
 },
 "nbformat": 4,
 "nbformat_minor": 2
}
