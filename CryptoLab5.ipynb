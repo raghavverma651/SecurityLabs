{
 "cells": [
  {
   "cell_type": "code",
   "execution_count": 88,
   "metadata": {
    "ExecuteTime": {
     "end_time": "2020-09-16T05:35:19.548234Z",
     "start_time": "2020-09-16T05:35:19.532601Z"
    }
   },
   "outputs": [],
   "source": [
    "def findModInverse(a, m):\n",
    "    if gcd(a, m) != 1:\n",
    "        return None\n",
    "    u1, u2, u3 = 1, 0, a\n",
    "    v1, v2, v3 = 0, 1, m\n",
    "    while v3 != 0:\n",
    "        q = u3 // v3\n",
    "        v1, v2, v3, u1, u2, u3 = (u1 - q * v1), (u2 - q * v2), (u3 - q * v3), v1, v2, v3\n",
    "    return u1 % m"
   ]
  },
  {
   "cell_type": "code",
   "execution_count": 138,
   "metadata": {
    "ExecuteTime": {
     "end_time": "2020-09-16T06:52:14.780383Z",
     "start_time": "2020-09-16T06:51:56.217423Z"
    }
   },
   "outputs": [
    {
     "name": "stdout",
     "output_type": "stream",
     "text": [
      "p taken - 317\n",
      "q taken - 307\n",
      "Public key - (5, 97319)\n",
      "Private key - (77357, 97319)\n",
      "\n",
      "1 - Encrypt\n",
      "2 - Decrypt\n",
      "Enter choice : 1\n",
      "\n",
      "Enter text to encrypt - abcdezza\n",
      "Encrypted message (numeric) - 1 32 243 1024 3125 8458 8458 1 \n",
      "1 - Encrypt\n",
      "2 - Decrypt\n",
      "Enter choice : 2\n",
      "1 32 243 1024 3125 8458 8458 1 \n",
      "Decrypted message - abcdezza\n"
     ]
    }
   ],
   "source": [
    "from random import choice \n",
    "lower=100\n",
    "upper=1000\n",
    "primes=[]\n",
    "iterr=0\n",
    "for x in range(lower, upper + 1):\n",
    "    \n",
    "    if x > 1:\n",
    "        for i in range(2, x):\n",
    "            if (x % i) == 0:\n",
    "                break\n",
    "        else:\n",
    "            primes.append(x)\n",
    "p=choice(primes)\n",
    "q=choice(primes)\n",
    "print(\"p taken -\",p)\n",
    "print(\"q taken -\",q)\n",
    "n=p*q\n",
    "phi=(p-1)*(q-1)\n",
    "from math import gcd\n",
    "e=0\n",
    "for i in range(2,phi):\n",
    "    if(gcd(i,phi)==1):\n",
    "        e=i\n",
    "        break\n",
    "d=0\n",
    "for i in range(1,10): \n",
    "    x = 1 + i*phi \n",
    "    if x % e == 0: \n",
    "        d = int(x/e) \n",
    "        break\n",
    "print(\"Public key -\",(e,n))\n",
    "print(\"Private key -\",(d,n))\n",
    "while(iterr!=2):\n",
    "    cipher={chr(i+97):i+1 for i in range(26)}\n",
    "    revcipher={i+1:chr(i+97) for i in range(26)}\n",
    "    ch=int(input(\"\\n1 - Encrypt\\n2 - Decrypt\\nEnter choice : \"))\n",
    "    sep=0\n",
    "    if(ch==1):\n",
    "        plain=input(\"\\nEnter text to encrypt - \")\n",
    "        plain=[cipher[i] for i in plain]\n",
    "        num=\"\"\n",
    "        for i in plain:\n",
    "            if(i>9):\n",
    "                num+=str(i)\n",
    "            else:\n",
    "                num+=\"0\"+str(i)\n",
    "        encrypted=[]\n",
    "        for i in range(0,len(num),2):\n",
    "            smt=((int(str(num[i]+num[i+1])))**e)%n\n",
    "            encrypted.append(str(smt))\n",
    "            \n",
    "        print(\"Encrypted message (numeric) - \",end='')\n",
    "    elif(ch==2):\n",
    "        enc=list(map(int,input().split()))\n",
    "        decrypted=[]\n",
    "        for i in enc:\n",
    "            decrypted.append((i**d)%n)\n",
    "        print(\"Decrypted message -\",''.join([revcipher[i] for i in decrypted]))\n",
    "    iterr+=1\n"
   ]
  },
  {
   "cell_type": "code",
   "execution_count": null,
   "metadata": {},
   "outputs": [],
   "source": []
  }
 ],
 "metadata": {
  "kernelspec": {
   "display_name": "Python 3",
   "language": "python",
   "name": "python3"
  },
  "language_info": {
   "codemirror_mode": {
    "name": "ipython",
    "version": 3
   },
   "file_extension": ".py",
   "mimetype": "text/x-python",
   "name": "python",
   "nbconvert_exporter": "python",
   "pygments_lexer": "ipython3",
   "version": "3.8.5"
  },
  "varInspector": {
   "cols": {
    "lenName": 16,
    "lenType": 16,
    "lenVar": 40
   },
   "kernels_config": {
    "python": {
     "delete_cmd_postfix": "",
     "delete_cmd_prefix": "del ",
     "library": "var_list.py",
     "varRefreshCmd": "print(var_dic_list())"
    },
    "r": {
     "delete_cmd_postfix": ") ",
     "delete_cmd_prefix": "rm(",
     "library": "var_list.r",
     "varRefreshCmd": "cat(var_dic_list()) "
    }
   },
   "types_to_exclude": [
    "module",
    "function",
    "builtin_function_or_method",
    "instance",
    "_Feature"
   ],
   "window_display": false
  }
 },
 "nbformat": 4,
 "nbformat_minor": 4
}
