{
 "cells": [
  {
   "cell_type": "markdown",
   "metadata": {},
   "source": [
    "# Vignere Cipher"
   ]
  },
  {
   "cell_type": "code",
   "execution_count": 25,
   "metadata": {},
   "outputs": [],
   "source": [
    "import numpy as np"
   ]
  },
  {
   "cell_type": "code",
   "execution_count": 38,
   "metadata": {},
   "outputs": [
    {
     "name": "stdout",
     "output_type": "stream",
     "text": [
      "1 - Encrypt\n",
      "2 - Decrypt\n",
      "Enter choice :\n",
      "1\n",
      "Enter plaintextcomputer science\n",
      "Enter keybennett\n",
      "Enciphered - dszcymxswpvigvf\n",
      "1 - Encrypt\n",
      "2 - Decrypt\n",
      "Enter choice :\n",
      "2\n",
      "Enter plaintextdszcymxswpvigvf\n",
      "Enter keybennett\n",
      "Deciphered - computerscience\n"
     ]
    }
   ],
   "source": [
    "n=0\n",
    "while(n!=2):\n",
    "    ch=int(input(\"1 - Encrypt\\n2 - Decrypt\\nEnter choice :\\n\"))\n",
    "    cipher={chr(i+97):i for i in range(26)}\n",
    "    revcipher={i:chr(i+97) for i in range(26)}\n",
    "    p=input(\"Enter plaintext \")\n",
    "    k=input(\"Enter key \")\n",
    "    newp=p.replace(\" \",\"\")\n",
    "    kcopy=k\n",
    "    for i in range(len(newp)-len(kcopy)):\n",
    "        k+=kcopy[i%len(kcopy)]\n",
    "    parray=np.array([cipher[i] for i in newp])\n",
    "    karray=np.array([cipher[i] for i in k])\n",
    "    if(ch==1):\n",
    "        encipher=(parray+karray)%26\n",
    "        print(\"Enciphered - \"+''.join([revcipher[i] for i in encipher]))\n",
    "    elif(ch==2):\n",
    "        decipher=(parray-karray+26)%26\n",
    "        print(\"Deciphered - \"+''.join([revcipher[i] for i in decipher]))\n",
    "        \n",
    "    n+=1\n"
   ]
  },
  {
   "cell_type": "code",
   "execution_count": 15,
   "metadata": {},
   "outputs": [
    {
     "name": "stdout",
     "output_type": "stream",
     "text": [
      "{'a': 0, 'b': 1, 'c': 2, 'd': 3, 'e': 4, 'f': 5, 'g': 6, 'h': 7, 'i': 8, 'j': 9, 'k': 10, 'l': 11, 'm': 12, 'n': 13, 'o': 14, 'p': 15, 'q': 16, 'r': 17, 's': 18, 't': 19, 'u': 20, 'v': 21, 'w': 22, 'x': 23, 'y': 24, 'z': 25}\n"
     ]
    }
   ],
   "source": [
    "cipher={chr(i+97):i for i in range(26)}\n",
    "print(cipher)"
   ]
  },
  {
   "cell_type": "markdown",
   "metadata": {},
   "source": [
    "# Vernam One-Time Pad Cipher(Additive Cipher)"
   ]
  },
  {
   "cell_type": "code",
   "execution_count": null,
   "metadata": {},
   "outputs": [],
   "source": []
  }
 ],
 "metadata": {
  "kernelspec": {
   "display_name": "Python 3",
   "language": "python",
   "name": "python3"
  },
  "language_info": {
   "codemirror_mode": {
    "name": "ipython",
    "version": 3
   },
   "file_extension": ".py",
   "mimetype": "text/x-python",
   "name": "python",
   "nbconvert_exporter": "python",
   "pygments_lexer": "ipython3",
   "version": "3.6.5"
  }
 },
 "nbformat": 4,
 "nbformat_minor": 4
}
