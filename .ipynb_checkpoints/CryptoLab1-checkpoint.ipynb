{
 "cells": [
  {
   "cell_type": "markdown",
   "metadata": {},
   "source": [
    "# Q1"
   ]
  },
  {
   "cell_type": "code",
   "execution_count": 8,
   "metadata": {},
   "outputs": [
    {
     "name": "stdout",
     "output_type": "stream",
     "text": [
      "------------------CAESAR CIPHER------------------\n",
      "Enter the number of times you want to run the program: 1\n",
      "Enter the Message : Tcijcx Xgtoc ku htqo EUG\n",
      "Enter Key: 2\n",
      "Choose the following options :\n",
      "1 : Encrypt the Message\n",
      "2 : Decrypt the Message\n",
      "Choice : 2\n",
      "Raghav Verma is from CSE\n"
     ]
    }
   ],
   "source": [
    "charset1={i+1:chr(i+97) for i in range(26)}\n",
    "charset2={i+1:chr(i+65) for i in range(26)}\n",
    "print(\"------------------CAESAR CIPHER------------------\")\n",
    "n=int(input(\"Enter the number of times you want to run the program: \"))\n",
    "while(n!=0):\n",
    "    a=input((\"Enter the Message : \"))\n",
    "    k=int(input(\"Enter Key: \"))\n",
    "    if(k>26):\n",
    "        break\n",
    "    print(\"Choose the following options :\")\n",
    "    print(\"1 : Encrypt the Message\")\n",
    "    print(\"2 : Decrypt the Message\")\n",
    "    ch=int(input(\"Choice : \"))\n",
    "    if(ch==1):\n",
    "        c=0\n",
    "        res=\"\"\n",
    "        while(c!=len(a)):\n",
    "            if(a[c].islower()):\n",
    "                res+=charset1[((ord(a[c])-96)+k)%26]\n",
    "            elif(a[c].isupper()):\n",
    "                res+=charset2[((ord(a[c])-64)+k)%26]\n",
    "            else:\n",
    "                res+=\" \"\n",
    "            c+=1    \n",
    "        print(res)\n",
    "    elif(ch==2):\n",
    "        c=0\n",
    "        res=\"\"\n",
    "        while(c!=len(a)):\n",
    "            if(a[c].islower()):\n",
    "                res+=charset1[((ord(a[c])-96)-k)%26]\n",
    "            elif(a[c].isupper()):\n",
    "                res+=charset2[((ord(a[c])-64)-k)%26]\n",
    "            else:\n",
    "                res+=\" \"\n",
    "            c+=1    \n",
    "        print(res)\n",
    "    else:\n",
    "        print(\"No such option\")\n",
    "    n-=1\n",
    "    "
   ]
  },
  {
   "cell_type": "markdown",
   "metadata": {},
   "source": [
    "# Q2"
   ]
  },
  {
   "cell_type": "code",
   "execution_count": 8,
   "metadata": {},
   "outputs": [
    {
     "name": "stdout",
     "output_type": "stream",
     "text": [
      "10 cryptographic nonces - \n",
      "9866\n",
      "3066\n",
      "4957\n",
      "3897\n",
      "1879\n",
      "7034\n",
      "2966\n",
      "2952\n",
      "1701\n",
      "5540\n"
     ]
    }
   ],
   "source": [
    "from random import randint\n",
    "print(\"10 cryptographic nonces - \")\n",
    "for i in range(10):\n",
    "    print(randint(1,10000))"
   ]
  },
  {
   "cell_type": "code",
   "execution_count": null,
   "metadata": {},
   "outputs": [],
   "source": []
  },
  {
   "cell_type": "code",
   "execution_count": 7,
   "metadata": {},
   "outputs": [
    {
     "name": "stdout",
     "output_type": "stream",
     "text": [
      "On branch master\n",
      "Your branch is up to date with 'origin/master'.\n",
      "\n",
      "Untracked files:\n",
      "  (use \"git add <file>...\" to include in what will be committed)\n",
      "\t.ipynb_checkpoints/\n",
      "\n",
      "nothing added to commit but untracked files present (use \"git add\" to track)\n"
     ]
    },
    {
     "name": "stderr",
     "output_type": "stream",
     "text": [
      "Everything up-to-date\n"
     ]
    }
   ],
   "source": [
    "!git add CryptoLab1.ipynb\n",
    "!git commit -m \"Final Edit\"\n",
    "!git push"
   ]
  },
  {
   "cell_type": "code",
   "execution_count": null,
   "metadata": {},
   "outputs": [],
   "source": []
  }
 ],
 "metadata": {
  "kernelspec": {
   "display_name": "Python 3",
   "language": "python",
   "name": "python3"
  },
  "language_info": {
   "codemirror_mode": {
    "name": "ipython",
    "version": 3
   },
   "file_extension": ".py",
   "mimetype": "text/x-python",
   "name": "python",
   "nbconvert_exporter": "python",
   "pygments_lexer": "ipython3",
   "version": "3.6.5"
  }
 },
 "nbformat": 4,
 "nbformat_minor": 2
}
