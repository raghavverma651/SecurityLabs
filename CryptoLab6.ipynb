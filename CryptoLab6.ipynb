{
 "cells": [
  {
   "cell_type": "code",
   "execution_count": 21,
   "metadata": {
    "ExecuteTime": {
     "end_time": "2020-09-23T04:40:20.900574Z",
     "start_time": "2020-09-23T04:40:06.012641Z"
    }
   },
   "outputs": [
    {
     "name": "stdout",
     "output_type": "stream",
     "text": [
      "q taken - 809\n",
      "a taken - 563\n",
      "Private key (FA) - 551\n",
      "Private key (HA) - 741\n",
      "Public key (FA) - 359\n",
      "Public key (HA) - 485\n",
      "Shared Session Key - 696\n",
      "\n",
      "1 - Encrypt\n",
      "2 - Decrypt\n",
      "Enter choice : 1\n",
      "\n",
      "Enter text to encrypt - something\n",
      "Encrypted Text - migynbcha\n",
      "\n",
      "1 - Encrypt\n",
      "2 - Decrypt\n",
      "Enter choice : 2\n",
      "Enter text to decrypt - migynbcha\n",
      "Decrypted Text - something\n"
     ]
    }
   ],
   "source": [
    "from random import choice \n",
    "lower=100\n",
    "upper=1000\n",
    "primes=[]\n",
    "iterr=0\n",
    "for x in range(lower, upper + 1):\n",
    "    \n",
    "    if x > 1:\n",
    "        for i in range(2, x):\n",
    "            if (x % i) == 0:\n",
    "                break\n",
    "        else:\n",
    "            primes.append(x)\n",
    "q=choice(primes)\n",
    "a=choice(primes)\n",
    "if(q<a):\n",
    "    a,q=q,a\n",
    "print(\"q taken -\",q)\n",
    "print(\"a taken -\",a)\n",
    "hs=choice([i for i in range(q)])\n",
    "hp=(a**hs)%q\n",
    "fs=choice([i for i in range(q)])\n",
    "while(fs==hs):\n",
    "    fs=choice([i for i in range(q)])\n",
    "fp=(a**fs)%q\n",
    "kfhfa=(fp**hs)%q\n",
    "kfhha=(hp**fs)%q\n",
    "cipher={chr(i+97):i+1 for i in range(26)}\n",
    "revcipher={i+1:chr(i+97) for i in range(26)}\n",
    "print(\"Private key (FA) -\",fs)\n",
    "print(\"Private key (HA) -\",hs)\n",
    "print(\"Public key (FA) -\",fp)\n",
    "print(\"Public key (HA) -\",hp)\n",
    "print(\"Shared Session Key -\",kfhfa)\n",
    "iterr=0\n",
    "while(iterr!=2):\n",
    "    ch=int(input(\"\\n1 - Encrypt\\n2 - Decrypt\\nEnter choice : \"))\n",
    "    if(ch==1):\n",
    "        plain=input(\"\\nEnter text to encrypt - \")\n",
    "        print('Encrypted Text -',''.join([revcipher[i] for i in list((np.array([cipher[i] for i in plain])+\n",
    "               kfhfa)%26)]))\n",
    "    elif(ch==2):\n",
    "        enc=input(\"Enter text to decrypt - \")\n",
    "        print('Decrypted Text -',''.join([revcipher[i] for i in list((np.array([cipher[i] for i in enc])-\n",
    "               kfhfa)%26)])) \n",
    "    iterr+=1"
   ]
  }
 ],
 "metadata": {
  "kernelspec": {
   "display_name": "Python 3",
   "language": "python",
   "name": "python3"
  },
  "language_info": {
   "codemirror_mode": {
    "name": "ipython",
    "version": 3
   },
   "file_extension": ".py",
   "mimetype": "text/x-python",
   "name": "python",
   "nbconvert_exporter": "python",
   "pygments_lexer": "ipython3",
   "version": "3.8.5"
  },
  "varInspector": {
   "cols": {
    "lenName": 16,
    "lenType": 16,
    "lenVar": 40
   },
   "kernels_config": {
    "python": {
     "delete_cmd_postfix": "",
     "delete_cmd_prefix": "del ",
     "library": "var_list.py",
     "varRefreshCmd": "print(var_dic_list())"
    },
    "r": {
     "delete_cmd_postfix": ") ",
     "delete_cmd_prefix": "rm(",
     "library": "var_list.r",
     "varRefreshCmd": "cat(var_dic_list()) "
    }
   },
   "types_to_exclude": [
    "module",
    "function",
    "builtin_function_or_method",
    "instance",
    "_Feature"
   ],
   "window_display": false
  }
 },
 "nbformat": 4,
 "nbformat_minor": 4
}
