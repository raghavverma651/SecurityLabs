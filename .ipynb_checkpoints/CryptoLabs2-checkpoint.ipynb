{
 "cells": [
  {
   "cell_type": "code",
   "execution_count": 126,
   "metadata": {},
   "outputs": [],
   "source": [
    "import numpy as np"
   ]
  },
  {
   "cell_type": "markdown",
   "metadata": {},
   "source": [
    "# Playfair Cipher"
   ]
  },
  {
   "cell_type": "code",
   "execution_count": 234,
   "metadata": {},
   "outputs": [],
   "source": [
    "def check(matrix,pt):\n",
    "    pt=list(pt)\n",
    "    for i in range(5):\n",
    "        if(pt[0] in matrix[:,i] and pt[1] in matrix[:,i]):\n",
    "            return 0\n",
    "        elif(pt[0] in matrix[i,:] and pt[1] in matrix[i,:]):\n",
    "            return 1\n",
    "    return 2\n",
    "def returninda(matrix,pt):\n",
    "    pt=list(pt)\n",
    "    for i in range(5):\n",
    "        if(pt[0] in matrix[:,i] and pt[1] in matrix[:,i]):\n",
    "            return i\n",
    "        elif(pt[0] in matrix[i,:] and pt[1] in matrix[i,:]):\n",
    "            return i\n",
    "def returnindb(matrix,pt):\n",
    "    pt=list(pt)\n",
    "    for i in range(5):\n",
    "        if(pt[0] in matrix[:,i] and pt[1] in matrix[:,i]):\n",
    "            return list(list(matrix[:,i]).index(pt[0]),list(matrix[:,i]).index(pt[1]))\n",
    "        elif(pt[0] in matrix[i,:] and pt[1] in matrix[i,:]):\n",
    "            return list(list(matrix[i,:]).index(pt[0]),list(matrix[i,:]).index(pt[1]))"
   ]
  },
  {
   "cell_type": "code",
   "execution_count": 237,
   "metadata": {},
   "outputs": [
    {
     "name": "stdout",
     "output_type": "stream",
     "text": [
      "[['m' 'o' 'n' 'a' 'r']\n",
      " ['c' 'h' 'y' 'b' 'd']\n",
      " ['e' 'f' 'g' 'i' 'k']\n",
      " ['l' 'p' 'q' 's' 't']\n",
      " ['u' 'v' 'w' 'x' 'z']]\n",
      "['in', 'st', 'ru', 'me', 'nt', 'sz']\n",
      " \n",
      " \n",
      " \n",
      " \n",
      " \n",
      " \n",
      " \n",
      " \n"
     ]
    },
    {
     "ename": "TypeError",
     "evalue": "'int' object is not iterable",
     "output_type": "error",
     "traceback": [
      "\u001b[1;31m---------------------------------------------------------------------------\u001b[0m",
      "\u001b[1;31mTypeError\u001b[0m                                 Traceback (most recent call last)",
      "\u001b[1;32m<ipython-input-237-fef8750ff240>\u001b[0m in \u001b[0;36m<module>\u001b[1;34m()\u001b[0m\n\u001b[0;32m     30\u001b[0m             \u001b[0mprint\u001b[0m\u001b[1;33m(\u001b[0m\u001b[0mkeymatrix\u001b[0m\u001b[1;33m[\u001b[0m\u001b[0mreturninda\u001b[0m\u001b[1;33m(\u001b[0m\u001b[0mkeymatrix\u001b[0m\u001b[1;33m,\u001b[0m\u001b[0mi\u001b[0m\u001b[1;33m)\u001b[0m\u001b[1;33m[\u001b[0m\u001b[1;36m1\u001b[0m\u001b[1;33m]\u001b[0m\u001b[1;33m,\u001b[0m\u001b[0mreturnindb\u001b[0m\u001b[1;33m(\u001b[0m\u001b[0mkeymatrix\u001b[0m\u001b[1;33m,\u001b[0m\u001b[0mi\u001b[0m\u001b[1;33m)\u001b[0m\u001b[1;33m]\u001b[0m\u001b[1;33m)\u001b[0m\u001b[1;33m\u001b[0m\u001b[0m\n\u001b[0;32m     31\u001b[0m         \u001b[1;32melif\u001b[0m\u001b[1;33m(\u001b[0m\u001b[0mpt\u001b[0m\u001b[1;33m[\u001b[0m\u001b[1;36m0\u001b[0m\u001b[1;33m]\u001b[0m \u001b[1;32min\u001b[0m \u001b[0mlist\u001b[0m\u001b[1;33m(\u001b[0m\u001b[0mkeymatrix\u001b[0m\u001b[1;33m[\u001b[0m\u001b[0mi\u001b[0m\u001b[1;33m,\u001b[0m\u001b[1;33m:\u001b[0m\u001b[1;33m]\u001b[0m\u001b[1;33m)\u001b[0m \u001b[1;32mand\u001b[0m \u001b[0mpt\u001b[0m\u001b[1;33m[\u001b[0m\u001b[1;36m1\u001b[0m\u001b[1;33m]\u001b[0m \u001b[1;32min\u001b[0m \u001b[0mlist\u001b[0m\u001b[1;33m(\u001b[0m\u001b[0mkeymatrix\u001b[0m\u001b[1;33m[\u001b[0m\u001b[0mi\u001b[0m\u001b[1;33m,\u001b[0m\u001b[1;33m:\u001b[0m\u001b[1;33m]\u001b[0m\u001b[1;33m)\u001b[0m\u001b[1;33m)\u001b[0m\u001b[1;33m:\u001b[0m\u001b[1;33m\u001b[0m\u001b[0m\n\u001b[1;32m---> 32\u001b[1;33m             \u001b[0mprint\u001b[0m\u001b[1;33m(\u001b[0m\u001b[0mkeymatrix\u001b[0m\u001b[1;33m[\u001b[0m\u001b[0mreturnindb\u001b[0m\u001b[1;33m(\u001b[0m\u001b[0mkeymatrix\u001b[0m\u001b[1;33m,\u001b[0m\u001b[0mi\u001b[0m\u001b[1;33m)\u001b[0m\u001b[1;33m,\u001b[0m\u001b[0mreturninda\u001b[0m\u001b[1;33m(\u001b[0m\u001b[0mkeymatrix\u001b[0m\u001b[1;33m,\u001b[0m\u001b[0mi\u001b[0m\u001b[1;33m)\u001b[0m\u001b[1;33m[\u001b[0m\u001b[1;36m0\u001b[0m\u001b[1;33m]\u001b[0m\u001b[1;33m]\u001b[0m\u001b[1;33m)\u001b[0m\u001b[1;33m\u001b[0m\u001b[0m\n\u001b[0m\u001b[0;32m     33\u001b[0m             \u001b[0mprint\u001b[0m\u001b[1;33m(\u001b[0m\u001b[0mkeymatrix\u001b[0m\u001b[1;33m[\u001b[0m\u001b[0mreturnindb\u001b[0m\u001b[1;33m(\u001b[0m\u001b[0mkeymatrix\u001b[0m\u001b[1;33m,\u001b[0m\u001b[0mi\u001b[0m\u001b[1;33m)\u001b[0m\u001b[1;33m,\u001b[0m\u001b[0mreturninda\u001b[0m\u001b[1;33m(\u001b[0m\u001b[0mkeymatrix\u001b[0m\u001b[1;33m,\u001b[0m\u001b[0mi\u001b[0m\u001b[1;33m)\u001b[0m\u001b[1;33m[\u001b[0m\u001b[1;36m1\u001b[0m\u001b[1;33m]\u001b[0m\u001b[1;33m]\u001b[0m\u001b[1;33m)\u001b[0m\u001b[1;33m\u001b[0m\u001b[0m\n\u001b[0;32m     34\u001b[0m         \u001b[1;32melse\u001b[0m\u001b[1;33m:\u001b[0m\u001b[1;33m\u001b[0m\u001b[0m\n",
      "\u001b[1;32m<ipython-input-234-726069586fa9>\u001b[0m in \u001b[0;36mreturnindb\u001b[1;34m(matrix, pt)\u001b[0m\n\u001b[0;32m     15\u001b[0m             \u001b[1;32mreturn\u001b[0m \u001b[0mi\u001b[0m\u001b[1;33m\u001b[0m\u001b[0m\n\u001b[0;32m     16\u001b[0m \u001b[1;32mdef\u001b[0m \u001b[0mreturnindb\u001b[0m\u001b[1;33m(\u001b[0m\u001b[0mmatrix\u001b[0m\u001b[1;33m,\u001b[0m\u001b[0mpt\u001b[0m\u001b[1;33m)\u001b[0m\u001b[1;33m:\u001b[0m\u001b[1;33m\u001b[0m\u001b[0m\n\u001b[1;32m---> 17\u001b[1;33m     \u001b[0mpt\u001b[0m\u001b[1;33m=\u001b[0m\u001b[0mlist\u001b[0m\u001b[1;33m(\u001b[0m\u001b[0mpt\u001b[0m\u001b[1;33m)\u001b[0m\u001b[1;33m\u001b[0m\u001b[0m\n\u001b[0m\u001b[0;32m     18\u001b[0m     \u001b[1;32mfor\u001b[0m \u001b[0mi\u001b[0m \u001b[1;32min\u001b[0m \u001b[0mrange\u001b[0m\u001b[1;33m(\u001b[0m\u001b[1;36m5\u001b[0m\u001b[1;33m)\u001b[0m\u001b[1;33m:\u001b[0m\u001b[1;33m\u001b[0m\u001b[0m\n\u001b[0;32m     19\u001b[0m         \u001b[1;32mif\u001b[0m\u001b[1;33m(\u001b[0m\u001b[0mpt\u001b[0m\u001b[1;33m[\u001b[0m\u001b[1;36m0\u001b[0m\u001b[1;33m]\u001b[0m \u001b[1;32min\u001b[0m \u001b[0mmatrix\u001b[0m\u001b[1;33m[\u001b[0m\u001b[1;33m:\u001b[0m\u001b[1;33m,\u001b[0m\u001b[0mi\u001b[0m\u001b[1;33m]\u001b[0m \u001b[1;32mand\u001b[0m \u001b[0mpt\u001b[0m\u001b[1;33m[\u001b[0m\u001b[1;36m1\u001b[0m\u001b[1;33m]\u001b[0m \u001b[1;32min\u001b[0m \u001b[0mmatrix\u001b[0m\u001b[1;33m[\u001b[0m\u001b[1;33m:\u001b[0m\u001b[1;33m,\u001b[0m\u001b[0mi\u001b[0m\u001b[1;33m]\u001b[0m\u001b[1;33m)\u001b[0m\u001b[1;33m:\u001b[0m\u001b[1;33m\u001b[0m\u001b[0m\n",
      "\u001b[1;31mTypeError\u001b[0m: 'int' object is not iterable"
     ]
    }
   ],
   "source": [
    "plaintext=\"instruments\"\n",
    "if(len(plaintext)%2!=0):\n",
    "    plaintext+='z'\n",
    "newpt=[]\n",
    "for i in range(len(plaintext)):\n",
    "    if(i%2==0):\n",
    "        newpt.append(plaintext[i]+plaintext[i+1])\n",
    "key=\"monarchy\"\n",
    "alphabets=[chr(i+97) for i in range(26)]\n",
    "alphabets2=[alphabets.remove(i) for i in list(key)]\n",
    "alphabets.remove('j')\n",
    "keymatrix=np.empty(25, dtype = str) \n",
    "c=0\n",
    "for i in key:\n",
    "    keymatrix[c]=i\n",
    "    c+=1\n",
    "c=len(key)\n",
    "for i in alphabets:\n",
    "    keymatrix[c]=i\n",
    "    c+=1\n",
    "keymatrix=keymatrix.reshape(5,5)\n",
    "print(keymatrix)\n",
    "encrypted=\"\"\n",
    "print(newpt)\n",
    "for pt in newpt:\n",
    "    pt=list(pt)\n",
    "    for i in range(5):\n",
    "        if(pt[0] in list(keymatrix[:,i]) and pt[1] in list(keymatrix[:,i])):\n",
    "            print(keymatrix[returninda(keymatrix,i)[0],returnindb(keymatrix,i)])\n",
    "            print(keymatrix[returninda(keymatrix,i)[1],returnindb(keymatrix,i)])\n",
    "        elif(pt[0] in list(keymatrix[i,:]) and pt[1] in list(keymatrix[i,:])):\n",
    "            print(keymatrix[returnindb(keymatrix,i),returninda(keymatrix,i)[0]])\n",
    "            print(keymatrix[returnindb(keymatrix,i),returninda(keymatrix,i)[1]])\n",
    "        else:\n",
    "            print(\" \")"
   ]
  },
  {
   "cell_type": "code",
   "execution_count": 173,
   "metadata": {},
   "outputs": [
    {
     "name": "stdout",
     "output_type": "stream",
     "text": [
      "['a', 'b']\n"
     ]
    }
   ],
   "source": []
  },
  {
   "cell_type": "markdown",
   "metadata": {},
   "source": [
    "# Hill Cipher"
   ]
  },
  {
   "cell_type": "code",
   "execution_count": 113,
   "metadata": {},
   "outputs": [],
   "source": [
    "import numpy\n",
    "import math\n",
    "from numpy import matrix\n",
    "from numpy import linalg\n",
    "\n",
    "def modMatInv(A,p):       # Finds the inverse of matrix A mod p\n",
    "    n=len(A)\n",
    "    A=matrix(A)\n",
    "    adj=numpy.zeros(shape=(n,n))\n",
    "    for i in range(0,n):\n",
    "        for j in range(0,n):\n",
    "            adj[i][j]=((-1)**(i+j)*int(round(linalg.det(minor(A,j,i)))))%p\n",
    "    return (modInv(int(round(linalg.det(A))),p)*adj)%p\n",
    "\n",
    "def modInv(a,p):          # Finds the inverse of a mod p, if it exists\n",
    "    for i in range(1,p):\n",
    "        if (i*a)%p==1:\n",
    "            return i\n",
    "    raise ValueError(str(a)+\" has no inverse mod \"+str(p))\n",
    "\n",
    "def minor(A,i,j):    # Return matrix A with the ith row and jth column deleted\n",
    "    A=numpy.array(A)\n",
    "    minor=numpy.zeros(shape=(len(A)-1,len(A)-1))\n",
    "    p=0\n",
    "    for s in range(0,len(minor)):\n",
    "        if p==i:\n",
    "            p=p+1\n",
    "        q=0\n",
    "        for t in range(0,len(minor)):\n",
    "            if q==j:\n",
    "                q=q+1\n",
    "            minor[s][t]=A[p][q]\n",
    "            q=q+1\n",
    "        p=p+1\n",
    "    return minor"
   ]
  },
  {
   "cell_type": "code",
   "execution_count": 124,
   "metadata": {},
   "outputs": [
    {
     "name": "stdout",
     "output_type": "stream",
     "text": [
      "POH\n",
      "ACT\n"
     ]
    }
   ],
   "source": [
    "cipher={chr(i+65):i for i in range(26)}\n",
    "revcipher={i:chr(i+65) for i in range(26)}\n",
    "a=\"ACT\"\n",
    "key=\"GYBNQKURP\"\n",
    "keymatrix=np.array(list(map(lambda x : cipher[x],key))).reshape(len(a),len(a))\n",
    "parray=np.array(list(map(lambda x : cipher[x],a)))\n",
    "ciphered=list(keymatrix.dot(parray)%26)\n",
    "encrypted=''.join([revcipher[i] for i in ciphered])\n",
    "det=np.linalg.det(keymatrix)%26\n",
    "inv=modMatInv(keymatrix,26).astype(int).dot(ciphered)%26\n",
    "decrypted=''.join([revcipher[i] for i in inv])\n",
    "print(encrypted)\n",
    "print(decrypted)"
   ]
  },
  {
   "cell_type": "code",
   "execution_count": 110,
   "metadata": {},
   "outputs": [],
   "source": []
  },
  {
   "cell_type": "code",
   "execution_count": null,
   "metadata": {},
   "outputs": [],
   "source": []
  }
 ],
 "metadata": {
  "kernelspec": {
   "display_name": "Python 3",
   "language": "python",
   "name": "python3"
  },
  "language_info": {
   "codemirror_mode": {
    "name": "ipython",
    "version": 3
   },
   "file_extension": ".py",
   "mimetype": "text/x-python",
   "name": "python",
   "nbconvert_exporter": "python",
   "pygments_lexer": "ipython3",
   "version": "3.6.5"
  }
 },
 "nbformat": 4,
 "nbformat_minor": 2
}
