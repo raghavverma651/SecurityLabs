{
 "cells": [
  {
   "cell_type": "code",
   "execution_count": 3,
   "metadata": {},
   "outputs": [],
   "source": [
    "import numpy as np"
   ]
  },
  {
   "cell_type": "markdown",
   "metadata": {},
   "source": [
    "# Playfair Cipher"
   ]
  },
  {
   "cell_type": "code",
   "execution_count": null,
   "metadata": {},
   "outputs": [],
   "source": []
  },
  {
   "cell_type": "markdown",
   "metadata": {},
   "source": [
    "# Hill Cipher"
   ]
  },
  {
   "cell_type": "code",
   "execution_count": 113,
   "metadata": {},
   "outputs": [],
   "source": [
    "import numpy\n",
    "import math\n",
    "from numpy import matrix\n",
    "from numpy import linalg\n",
    "\n",
    "def modMatInv(A,p):       # Finds the inverse of matrix A mod p\n",
    "    n=len(A)\n",
    "    A=matrix(A)\n",
    "    adj=numpy.zeros(shape=(n,n))\n",
    "    for i in range(0,n):\n",
    "        for j in range(0,n):\n",
    "            adj[i][j]=((-1)**(i+j)*int(round(linalg.det(minor(A,j,i)))))%p\n",
    "    return (modInv(int(round(linalg.det(A))),p)*adj)%p\n",
    "\n",
    "def modInv(a,p):          # Finds the inverse of a mod p, if it exists\n",
    "    for i in range(1,p):\n",
    "        if (i*a)%p==1:\n",
    "            return i\n",
    "    raise ValueError(str(a)+\" has no inverse mod \"+str(p))\n",
    "\n",
    "def minor(A,i,j):    # Return matrix A with the ith row and jth column deleted\n",
    "    A=numpy.array(A)\n",
    "    minor=numpy.zeros(shape=(len(A)-1,len(A)-1))\n",
    "    p=0\n",
    "    for s in range(0,len(minor)):\n",
    "        if p==i:\n",
    "            p=p+1\n",
    "        q=0\n",
    "        for t in range(0,len(minor)):\n",
    "            if q==j:\n",
    "                q=q+1\n",
    "            minor[s][t]=A[p][q]\n",
    "            q=q+1\n",
    "        p=p+1\n",
    "    return minor"
   ]
  },
  {
   "cell_type": "code",
   "execution_count": 122,
   "metadata": {},
   "outputs": [
    {
     "name": "stdout",
     "output_type": "stream",
     "text": [
      "[ 0  2 19]\n",
      "ACT\n"
     ]
    }
   ],
   "source": [
    "cipher={chr(i+65):i for i in range(26)}\n",
    "revcipher={i:chr(i+65) for i in range(26)}\n",
    "a=\"ACT\"\n",
    "key=\"GYBNQKURP\"\n",
    "keymatrix=np.array(list(map(lambda x : cipher[x],key))).reshape(len(a),len(a))\n",
    "parray=np.array(list(map(lambda x : cipher[x],a)))\n",
    "ciphered=list(keymatrix.dot(parray)%26)\n",
    "ciphert=''.join([revcipher[i] for i in ciphered])\n",
    "det=np.linalg.det(keymatrix)%26\n",
    "inv=modMatInv(keymatrix,26).astype(int).dot(ciphered)%26\n",
    "decrypted=''.join([revcipher[i] for i in inv]))"
   ]
  },
  {
   "cell_type": "code",
   "execution_count": 110,
   "metadata": {},
   "outputs": [],
   "source": []
  },
  {
   "cell_type": "code",
   "execution_count": null,
   "metadata": {},
   "outputs": [],
   "source": []
  }
 ],
 "metadata": {
  "kernelspec": {
   "display_name": "Python 3",
   "language": "python",
   "name": "python3"
  },
  "language_info": {
   "codemirror_mode": {
    "name": "ipython",
    "version": 3
   },
   "file_extension": ".py",
   "mimetype": "text/x-python",
   "name": "python",
   "nbconvert_exporter": "python",
   "pygments_lexer": "ipython3",
   "version": "3.6.5"
  }
 },
 "nbformat": 4,
 "nbformat_minor": 2
}
