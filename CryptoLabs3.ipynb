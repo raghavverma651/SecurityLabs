{
 "cells": [
  {
   "cell_type": "markdown",
   "metadata": {},
   "source": [
    "# Vignere Cipher"
   ]
  },
  {
   "cell_type": "code",
   "execution_count": 2,
   "metadata": {},
   "outputs": [],
   "source": [
    "import numpy as np"
   ]
  },
  {
   "cell_type": "code",
   "execution_count": 39,
   "metadata": {},
   "outputs": [
    {
     "name": "stdout",
     "output_type": "stream",
     "text": [
      "1 - Encrypt\n",
      "2 - Decrypt\n",
      "Enter choice : 1\n",
      "Enter plaintext computer science\n",
      "Enter key bennett\n",
      "Enciphered - dszcymxswpvigvf\n",
      "\n",
      "1 - Encrypt\n",
      "2 - Decrypt\n",
      "Enter choice : 2\n",
      "Enter plaintext dszcymxswpvigvf\n",
      "Enter key bennett\n",
      "Deciphered - computerscience\n",
      "\n"
     ]
    }
   ],
   "source": [
    "n=0\n",
    "while(n!=2):\n",
    "    ch=int(input(\"1 - Encrypt\\n2 - Decrypt\\nEnter choice : \"))\n",
    "    cipher={chr(i+97):i for i in range(26)}\n",
    "    revcipher={i:chr(i+97) for i in range(26)}\n",
    "    p=input(\"Enter plaintext \")\n",
    "    k=input(\"Enter key \")\n",
    "    newp=p.replace(\" \",\"\")\n",
    "    kcopy=k\n",
    "    for i in range(len(newp)-len(kcopy)):\n",
    "        k+=kcopy[i%len(kcopy)]\n",
    "    parray=np.array([cipher[i] for i in newp])\n",
    "    karray=np.array([cipher[i] for i in k])\n",
    "    if(ch==1):\n",
    "        encipher=(parray+karray)%26\n",
    "        print(\"Enciphered - \"+''.join([revcipher[i] for i in encipher]))\n",
    "        print()\n",
    "    elif(ch==2):\n",
    "        decipher=(parray-karray+26)%26\n",
    "        print(\"Deciphered - \"+''.join([revcipher[i] for i in decipher]))\n",
    "        print()\n",
    "        \n",
    "    n+=1\n"
   ]
  },
  {
   "cell_type": "markdown",
   "metadata": {},
   "source": [
    "# Vernam One-Time Pad Cipher(Additive Cipher)"
   ]
  },
  {
   "cell_type": "code",
   "execution_count": 17,
   "metadata": {},
   "outputs": [
    {
     "name": "stdout",
     "output_type": "stream",
     "text": [
      "\n",
      "Plaintext - 001011010111\n",
      "Key - 100111001011\n",
      "\n",
      "Enciphered -  101100011100\n",
      "Deciphered -  001011010111\n"
     ]
    }
   ],
   "source": [
    "\n",
    "p=np.array([int(i) for i in \"001011010111\"])\n",
    "k=np.array([int(i) for i in \"100111001011\"])\n",
    "print()\n",
    "print(\"Plaintext -\",''.join([str(i) for i in p]))\n",
    "print(\"Key -\",''.join([str(i) for i in k]))\n",
    "print()\n",
    "c=''.join([str(i) for i in list(p^k)])\n",
    "print(\"Enciphered - \",c)\n",
    "carray=np.array([int(i) for i in c])\n",
    "d=''.join([str(i) for i in list(carray^k)])\n",
    "print(\"Deciphered - \",d)\n",
    "        \n",
    "    "
   ]
  },
  {
   "cell_type": "code",
   "execution_count": null,
   "metadata": {},
   "outputs": [],
   "source": []
  }
 ],
 "metadata": {
  "kernelspec": {
   "display_name": "Python 3",
   "language": "python",
   "name": "python3"
  },
  "language_info": {
   "codemirror_mode": {
    "name": "ipython",
    "version": 3
   },
   "file_extension": ".py",
   "mimetype": "text/x-python",
   "name": "python",
   "nbconvert_exporter": "python",
   "pygments_lexer": "ipython3",
   "version": "3.6.5"
  }
 },
 "nbformat": 4,
 "nbformat_minor": 4
}
